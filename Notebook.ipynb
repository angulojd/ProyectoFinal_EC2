{
 "cells": [
  {
   "cell_type": "code",
   "execution_count": 1,
   "metadata": {},
   "outputs": [],
   "source": [
    "import psycopg2 as pc\n",
    "import numpy\n",
    "import pandas as pd\n",
    "import plotly.express as px"
   ]
  },
  {
   "cell_type": "code",
   "execution_count": 2,
   "metadata": {},
   "outputs": [],
   "source": [
    "def read_query(connection, query):\n",
    "    cursor = connection.cursor()\n",
    "    result = None\n",
    "    try:\n",
    "        cursor.execute(query)\n",
    "        result = cursor.fetchall()\n",
    "        return result\n",
    "    except Error as err:\n",
    "        print(f\"Error: {err}\")"
   ]
  },
  {
   "cell_type": "code",
   "execution_count": 3,
   "metadata": {},
   "outputs": [],
   "source": [
    "DB_HOST = \"postgres_db\"\n",
    "DB_NAME = \"test_db\"\n",
    "DB_USER = \"root\"\n",
    "DB_PASS = \"root\""
   ]
  },
  {
   "cell_type": "code",
   "execution_count": null,
   "metadata": {},
   "outputs": [],
   "source": [
    "conn = pc.connect(dbname=DB_NAME, user=DB_USER, password=DB_PASS, host=DB_HOST)\n",
    "cur = conn.cursor()"
   ]
  },
  {
   "cell_type": "markdown",
   "metadata": {},
   "source": [
    "## `Cargando datos a la DB`"
   ]
  },
  {
   "cell_type": "markdown",
   "metadata": {},
   "source": [
    "cur.execute(\"CREATE TABLE INVEMAR (id serial PRIMARY KEY, Fecha integer,Hora integer,Variable varchar,Valor float,Unidad varchar,Lugar varchar);\")\n",
    "conn.commit()\n",
    "df = pd.read_csv('Data_INVEMAR.csv')\n",
    "df\n",
    "cols = \",\".join([str(i) for i in df.columns.tolist()])\n",
    "\n",
    "for i,row in df.iterrows():\n",
    "    sql = \"INSERT INTO INVEMAR (\" +cols + \") VALUES (\" + \"%s,\"*(len(row)-1) + \"%s)\"\n",
    "    cur.execute(sql,tuple(row))\n",
    "conn.commit()"
   ]
  },
  {
   "cell_type": "markdown",
   "metadata": {},
   "source": [
    "## `Visualizaciones (Queries)`"
   ]
  },
  {
   "cell_type": "code",
   "execution_count": null,
   "metadata": {},
   "outputs": [],
   "source": [
    "r=read_query(conn, \"select Hora, Valor, Lugar from INVEMAR where Valor<150\")\n",
    "a = []\n",
    "b = []\n",
    "c = []\n",
    "for data in r:\n",
    "    a.append(data[0])\n",
    "    b.append(data[1])\n",
    "    c.append(data[2])\n",
    "dd = {'Hora':a,'Velocidad':b, \"Lugar\":c }\n",
    "fig = px.scatter(dd, x=\"Hora\", y=\"Velocidad\", color=\"Lugar\", marginal_y=\"violin\",\n",
    "           marginal_x=\"box\", trendline=\"ols\", template=\"simple_white\")#px.scatter(dd, x=\"Hora\", y=\"Velocidad\", color=\"Lugar\")\n",
    "fig.show()"
   ]
  },
  {
   "cell_type": "code",
   "execution_count": null,
   "metadata": {},
   "outputs": [],
   "source": [
    "o=read_query(conn, \"select Hora, avg(Valor) from INVEMAR group by Hora order by Hora\")\n",
    "a = []\n",
    "b = []\n",
    "for data in o:\n",
    "    a.append(data[0])\n",
    "    b.append(data[1])\n",
    "dd = {'Hora':a,'Velocidad':b }\n",
    "fig = px.line(dd, x=\"Hora\", y=\"Velocidad\", title='Promedio de velocidad por hora')\n",
    "fig.show()"
   ]
  },
  {
   "cell_type": "code",
   "execution_count": null,
   "metadata": {},
   "outputs": [],
   "source": [
    "q=read_query(conn, \"select Hora, max(Valor) from INVEMAR where Lugar='Punta Betin' group by Hora order by Hora\")\n",
    "a = []\n",
    "b = []\n",
    "for data in q:\n",
    "    a.append(data[0])\n",
    "    b.append(data[1])\n",
    "dd = {'Hora':a,'Velocidad':b }\n",
    "fig = px.line(dd, x=\"Hora\", y=\"Velocidad\", title='Maxima de velocidad por hora en Barranquilla')\n",
    "fig.show()"
   ]
  },
  {
   "cell_type": "code",
   "execution_count": null,
   "metadata": {},
   "outputs": [],
   "source": [
    "cur.close()\n",
    "conn.close()"
   ]
  }
 ],
 "metadata": {
  "interpreter": {
   "hash": "a275fc477bf92248160fcae7c0c08766e6a339db15d6608a3ba00b75dd841c7c"
  },
  "kernelspec": {
   "display_name": "Python 2.7.15 64-bit (system)",
   "language": "python",
   "name": "python3"
  },
  "language_info": {
   "codemirror_mode": {
    "name": "ipython",
    "version": 3
   },
   "file_extension": ".py",
   "mimetype": "text/x-python",
   "name": "python",
   "nbconvert_exporter": "python",
   "pygments_lexer": "ipython3",
   "version": "3.10.0"
  },
  "orig_nbformat": 4
 },
 "nbformat": 4,
 "nbformat_minor": 2
}
